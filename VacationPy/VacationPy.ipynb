{
 "cells": [
  {
   "cell_type": "markdown",
   "metadata": {},
   "source": [
    "# VacationPy\n",
    "----\n",
    "\n",
    "#### Note\n",
    "* Keep an eye on your API usage. Use https://developers.google.com/maps/reporting/gmp-reporting as reference for how to monitor your usage and billing.\n",
    "\n",
    "* Instructions have been included for each segment. You do not have to follow them exactly, but they are included to help you think through the steps."
   ]
  },
  {
   "cell_type": "code",
   "execution_count": 1,
   "metadata": {},
   "outputs": [],
   "source": [
    "# Dependencies and Setup\n",
    "import matplotlib.pyplot as plt\n",
    "import pandas as pd\n",
    "import numpy as np\n",
    "import requests\n",
    "import gmaps\n",
    "import os\n",
    "\n",
    "# Import API key\n",
    "from config import g_key\n",
    "gmaps.configure(api_key=g_key)"
   ]
  },
  {
   "cell_type": "markdown",
   "metadata": {},
   "source": [
    "### Store Part I results into DataFrame\n",
    "* Load the csv exported in Part I to a DataFrame"
   ]
  },
  {
   "cell_type": "code",
   "execution_count": 2,
   "metadata": {},
   "outputs": [
    {
     "output_type": "execute_result",
     "data": {
      "text/plain": [
       "                City    Lat     Lon  Max Temp  Humidity  Cloudiness  \\\n",
       "0          Carnarvon -24.87  113.63      75.2        73          90   \n",
       "1         Bredasdorp -34.53   20.04      62.6        55           0   \n",
       "2  Saint Paul Harbor  57.79 -152.41      37.4        55          90   \n",
       "3          Busselton -33.65  115.33      68.0        71         100   \n",
       "4             Namtsy  62.72  129.67      -4.0        76           0   \n",
       "\n",
       "   Wind Speed Country        Date  \n",
       "0       16.11      AU  1604127452  \n",
       "1        3.36      ZA  1604127447  \n",
       "2        5.82      US  1604127451  \n",
       "3        5.99      AU  1604127550  \n",
       "4        2.24      RU  1604127550  "
      ],
      "text/html": "<div>\n<style scoped>\n    .dataframe tbody tr th:only-of-type {\n        vertical-align: middle;\n    }\n\n    .dataframe tbody tr th {\n        vertical-align: top;\n    }\n\n    .dataframe thead th {\n        text-align: right;\n    }\n</style>\n<table border=\"1\" class=\"dataframe\">\n  <thead>\n    <tr style=\"text-align: right;\">\n      <th></th>\n      <th>City</th>\n      <th>Lat</th>\n      <th>Lon</th>\n      <th>Max Temp</th>\n      <th>Humidity</th>\n      <th>Cloudiness</th>\n      <th>Wind Speed</th>\n      <th>Country</th>\n      <th>Date</th>\n    </tr>\n  </thead>\n  <tbody>\n    <tr>\n      <th>0</th>\n      <td>Carnarvon</td>\n      <td>-24.87</td>\n      <td>113.63</td>\n      <td>75.2</td>\n      <td>73</td>\n      <td>90</td>\n      <td>16.11</td>\n      <td>AU</td>\n      <td>1604127452</td>\n    </tr>\n    <tr>\n      <th>1</th>\n      <td>Bredasdorp</td>\n      <td>-34.53</td>\n      <td>20.04</td>\n      <td>62.6</td>\n      <td>55</td>\n      <td>0</td>\n      <td>3.36</td>\n      <td>ZA</td>\n      <td>1604127447</td>\n    </tr>\n    <tr>\n      <th>2</th>\n      <td>Saint Paul Harbor</td>\n      <td>57.79</td>\n      <td>-152.41</td>\n      <td>37.4</td>\n      <td>55</td>\n      <td>90</td>\n      <td>5.82</td>\n      <td>US</td>\n      <td>1604127451</td>\n    </tr>\n    <tr>\n      <th>3</th>\n      <td>Busselton</td>\n      <td>-33.65</td>\n      <td>115.33</td>\n      <td>68.0</td>\n      <td>71</td>\n      <td>100</td>\n      <td>5.99</td>\n      <td>AU</td>\n      <td>1604127550</td>\n    </tr>\n    <tr>\n      <th>4</th>\n      <td>Namtsy</td>\n      <td>62.72</td>\n      <td>129.67</td>\n      <td>-4.0</td>\n      <td>76</td>\n      <td>0</td>\n      <td>2.24</td>\n      <td>RU</td>\n      <td>1604127550</td>\n    </tr>\n  </tbody>\n</table>\n</div>"
     },
     "metadata": {},
     "execution_count": 2
    }
   ],
   "source": [
    "filename = '../WeatherPy/Outputs/weatherpy_output.csv'\n",
    "weatherdata = pd.read_csv(filename)\n",
    "lat_lon = weatherdata[['Lat', 'Lon']]\n",
    "humidity = weatherdata['Humidity']\n",
    "\n",
    "weatherdata.head()"
   ]
  },
  {
   "cell_type": "markdown",
   "metadata": {},
   "source": [
    "### Humidity Heatmap\n",
    "* Configure gmaps.\n",
    "* Use the Lat and Lng as locations and Humidity as the weight.\n",
    "* Add Heatmap layer to map."
   ]
  },
  {
   "cell_type": "code",
   "execution_count": 3,
   "metadata": {},
   "outputs": [
    {
     "output_type": "display_data",
     "data": {
      "text/plain": "Figure(layout=FigureLayout(height='420px'))",
      "application/vnd.jupyter.widget-view+json": {
       "version_major": 2,
       "version_minor": 0,
       "model_id": "4506425ad481451f88865957393c5321"
      }
     },
     "metadata": {}
    }
   ],
   "source": [
    "vacmap = gmaps.figure()\n",
    "heatlayer = gmaps.heatmap_layer(lat_lon, weights=humidity)\n",
    "vacmap.add_layer(heatlayer)\n",
    "vacmap"
   ]
  },
  {
   "cell_type": "markdown",
   "metadata": {},
   "source": [
    "### Create new DataFrame fitting weather criteria\n",
    "* Narrow down the cities to fit weather conditions.\n",
    "* Drop any rows will null values."
   ]
  },
  {
   "cell_type": "code",
   "execution_count": 11,
   "metadata": {},
   "outputs": [
    {
     "output_type": "execute_result",
     "data": {
      "text/plain": [
       "           City    Lat     Lon  Max Temp  Humidity  Cloudiness  Wind Speed  \\\n",
       "181  Kiryat Gat  31.61   34.76     78.01        15           0        1.01   \n",
       "258        Wuhu  31.34  118.38     71.60        40           0        4.47   \n",
       "307      Riyadh  24.69   46.72     75.20        38           0        9.86   \n",
       "336      Najrān  17.49   44.13     73.40        25           0        4.70   \n",
       "420    Dingzhou  38.51  115.00     71.60        26           0        4.47   \n",
       "\n",
       "    Country        Date  \n",
       "181      IL  1604127564  \n",
       "258      CN  1604127688  \n",
       "307      SA  1604127609  \n",
       "336      SA  1604127741  \n",
       "420      CN  1604127784  "
      ],
      "text/html": "<div>\n<style scoped>\n    .dataframe tbody tr th:only-of-type {\n        vertical-align: middle;\n    }\n\n    .dataframe tbody tr th {\n        vertical-align: top;\n    }\n\n    .dataframe thead th {\n        text-align: right;\n    }\n</style>\n<table border=\"1\" class=\"dataframe\">\n  <thead>\n    <tr style=\"text-align: right;\">\n      <th></th>\n      <th>City</th>\n      <th>Lat</th>\n      <th>Lon</th>\n      <th>Max Temp</th>\n      <th>Humidity</th>\n      <th>Cloudiness</th>\n      <th>Wind Speed</th>\n      <th>Country</th>\n      <th>Date</th>\n    </tr>\n  </thead>\n  <tbody>\n    <tr>\n      <th>181</th>\n      <td>Kiryat Gat</td>\n      <td>31.61</td>\n      <td>34.76</td>\n      <td>78.01</td>\n      <td>15</td>\n      <td>0</td>\n      <td>1.01</td>\n      <td>IL</td>\n      <td>1604127564</td>\n    </tr>\n    <tr>\n      <th>258</th>\n      <td>Wuhu</td>\n      <td>31.34</td>\n      <td>118.38</td>\n      <td>71.60</td>\n      <td>40</td>\n      <td>0</td>\n      <td>4.47</td>\n      <td>CN</td>\n      <td>1604127688</td>\n    </tr>\n    <tr>\n      <th>307</th>\n      <td>Riyadh</td>\n      <td>24.69</td>\n      <td>46.72</td>\n      <td>75.20</td>\n      <td>38</td>\n      <td>0</td>\n      <td>9.86</td>\n      <td>SA</td>\n      <td>1604127609</td>\n    </tr>\n    <tr>\n      <th>336</th>\n      <td>Najrān</td>\n      <td>17.49</td>\n      <td>44.13</td>\n      <td>73.40</td>\n      <td>25</td>\n      <td>0</td>\n      <td>4.70</td>\n      <td>SA</td>\n      <td>1604127741</td>\n    </tr>\n    <tr>\n      <th>420</th>\n      <td>Dingzhou</td>\n      <td>38.51</td>\n      <td>115.00</td>\n      <td>71.60</td>\n      <td>26</td>\n      <td>0</td>\n      <td>4.47</td>\n      <td>CN</td>\n      <td>1604127784</td>\n    </tr>\n  </tbody>\n</table>\n</div>"
     },
     "metadata": {},
     "execution_count": 11
    }
   ],
   "source": [
    "idealweather = weatherdata.loc[weatherdata['Max Temp'] > 70]\n",
    "idealweather = idealweather.loc[idealweather['Max Temp'] < 80]\n",
    "idealweather = idealweather.loc[idealweather['Wind Speed'] < 10]\n",
    "idealweather = idealweather.loc[idealweather['Cloudiness'] == 0]\n",
    "\n",
    "idealweather.head()"
   ]
  },
  {
   "cell_type": "markdown",
   "metadata": {},
   "source": [
    "### Hotel Map\n",
    "* Store into variable named `hotel_df`.\n",
    "* Add a \"Hotel Name\" column to the DataFrame.\n",
    "* Set parameters to search for hotels with 5000 meters.\n",
    "* Hit the Google Places API for each city's coordinates.\n",
    "* Store the first Hotel result into the DataFrame.\n",
    "* Plot markers on top of the heatmap."
   ]
  },
  {
   "cell_type": "code",
   "execution_count": null,
   "metadata": {},
   "outputs": [],
   "source": []
  },
  {
   "cell_type": "code",
   "execution_count": null,
   "metadata": {},
   "outputs": [],
   "source": []
  },
  {
   "cell_type": "code",
   "execution_count": null,
   "metadata": {},
   "outputs": [],
   "source": [
    "# NOTE: Do not change any of the code in this cell\n",
    "\n",
    "# Using the template add the hotel marks to the heatmap\n",
    "info_box_template = \"\"\"\n",
    "<dl>\n",
    "<dt>Name</dt><dd>{Hotel Name}</dd>\n",
    "<dt>City</dt><dd>{City}</dd>\n",
    "<dt>Country</dt><dd>{Country}</dd>\n",
    "</dl>\n",
    "\"\"\"\n",
    "# Store the DataFrame Row\n",
    "# NOTE: be sure to update with your DataFrame name\n",
    "hotel_info = [info_box_template.format(**row) for index, row in hotel_df.iterrows()]\n",
    "locations = hotel_df[[\"Lat\", \"Lng\"]]"
   ]
  },
  {
   "cell_type": "code",
   "execution_count": null,
   "metadata": {},
   "outputs": [],
   "source": [
    "# Add marker layer ontop of heat map\n",
    "\n",
    "\n",
    "# Display figure\n"
   ]
  },
  {
   "cell_type": "code",
   "execution_count": null,
   "metadata": {},
   "outputs": [],
   "source": []
  }
 ],
 "metadata": {
  "kernelspec": {
   "name": "Python 3.8.3 64-bit (conda)",
   "display_name": "Python 3.8.3 64-bit (conda)",
   "metadata": {
    "interpreter": {
     "hash": "6fd23ede89000cb7e720f10747f59e0e51bacb467d17e0770f5e1a34b43d0807"
    }
   }
  },
  "language_info": {
   "codemirror_mode": {
    "name": "ipython",
    "version": 3
   },
   "file_extension": ".py",
   "mimetype": "text/x-python",
   "name": "python",
   "nbconvert_exporter": "python",
   "pygments_lexer": "ipython3",
   "version": "3.8.3-final"
  },
  "latex_envs": {
   "LaTeX_envs_menu_present": true,
   "autoclose": false,
   "autocomplete": true,
   "bibliofile": "biblio.bib",
   "cite_by": "apalike",
   "current_citInitial": 1,
   "eqLabelWithNumbers": true,
   "eqNumInitial": 1,
   "hotkeys": {
    "equation": "Ctrl-E",
    "itemize": "Ctrl-I"
   },
   "labels_anchors": false,
   "latex_user_defs": false,
   "report_style_numbering": false,
   "user_envs_cfg": false
  }
 },
 "nbformat": 4,
 "nbformat_minor": 4
}